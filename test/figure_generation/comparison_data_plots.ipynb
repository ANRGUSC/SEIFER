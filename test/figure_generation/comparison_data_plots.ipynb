{
 "cells": [
  {
   "cell_type": "code",
   "execution_count": 7,
   "metadata": {
    "collapsed": true,
    "pycharm": {
     "name": "#%%\n"
    }
   },
   "outputs": [],
   "source": [
    "import pandas as pd\n",
    "import matplotlib.pyplot as plt\n",
    "import numpy as np"
   ]
  },
  {
   "cell_type": "code",
   "execution_count": 8,
   "outputs": [],
   "source": [
    "k_path_file = \"Bottleneck based on different factors - K-Path Matching.csv\"\n",
    "other_file = \"Bottleneck based on different factors - Random Algorithm.csv\"\n",
    "\n",
    "k_path_df = pd.read_csv(k_path_file)\n",
    "other_df = pd.read_csv(other_file)"
   ],
   "metadata": {
    "collapsed": false,
    "pycharm": {
     "name": "#%%\n"
    }
   }
  },
  {
   "cell_type": "code",
   "execution_count": 9,
   "outputs": [
    {
     "data": {
      "text/plain": "<Figure size 1008x576 with 5 Axes>",
      "image/png": "[encoded data removed]"
     },
     "metadata": {
      "needs_background": "light"
     },
     "output_type": "display_data"
    }
   ],
   "source": [
    "#models = ['MobileNetV2', 'EfficientNetB1', 'ResNet50', 'InceptionResNetV2']\n",
    "models = ['ResNet50', 'InceptionResNetV2']\n",
    "#mems = [[64], [64, 128], [64, 128], [64, 128, 256]]\n",
    "mems = [[64, 128], [64, 128, 256]]\n",
    "node_categories = np.unique(k_path_df['# of Nodes'])\n",
    "\n",
    "N = len(node_categories)\n",
    "ind = np.arange(N)\n",
    "width = 0.3\n",
    "\n",
    "fig, ax = plt.subplots(nrows=2, ncols=3, figsize=(14, 8))\n",
    "for i in range(len(mems)):\n",
    "    sub_mems = mems[i]\n",
    "    model = models[i]\n",
    "    for sm in range(3):\n",
    "        if sm > len(sub_mems) - 1:\n",
    "            fig.delaxes(ax[i][sm])\n",
    "            continue\n",
    "\n",
    "        k_path_df_part = k_path_df.loc[(k_path_df['Model'] == model) & (k_path_df['Node Memory Capacity (MB)'] == sub_mems[sm]) & (k_path_df['# of Bandwidth Classes'] == 20), ['Bottleneck Latency (s)']]['Bottleneck Latency (s)']\n",
    "        other_df_part = other_df.loc[(other_df['Model'] == model) & (other_df['Node Memory Capacity (MB)'] == sub_mems[sm]), ['Bottleneck Latency (s)']]['Bottleneck Latency (s)']\n",
    "\n",
    "        k_path_bars = k_path_df_part.to_numpy()\n",
    "        other_bars = other_df_part.to_numpy()\n",
    "\n",
    "        subplot = ax[i][sm]\n",
    "        subplot.bar(ind, k_path_bars, width, label='K-Path Matching')\n",
    "        subplot.bar(ind + width, other_bars, width, label='Joint Optimization')\n",
    "\n",
    "        subplot.set_xticks([])\n",
    "\n",
    "        xlabel = ''\n",
    "        ylabel = ''\n",
    "        if i == len(mems) - 1:\n",
    "            if sm == 0:\n",
    "                prefix = 'Number of Nodes'\n",
    "            else:\n",
    "                prefix = '\\n'\n",
    "            xlabel = f'{prefix}\\n\\n{sub_mems[sm]} MB'\n",
    "        if sm == 0:\n",
    "            if i == len(mems) - 1:\n",
    "                suffix = 'Bottleneck Latency (s)'\n",
    "                subplot.set_xticks(ind + width / 2, node_categories)\n",
    "                subplot.legend(loc='upper right')\n",
    "            else:\n",
    "                suffix = '\\n'\n",
    "            ylabel = f'{models[i]}\\n\\n{suffix}'\n",
    "\n",
    "        subplot.set_xlabel(xlabel)\n",
    "        subplot.set_ylabel(ylabel)\n",
    "\n",
    "fig.supxlabel('Node Capacity')\n",
    "fig.supylabel('Model')\n",
    "plt.savefig('K-Path vs. Random Algorithm.png')"
   ],
   "metadata": {
    "collapsed": false,
    "pycharm": {
     "name": "#%%\n"
    }
   }
  },
  {
   "cell_type": "code",
   "execution_count": 10,
   "outputs": [],
   "source": [
    "avg_df = k_path_df.loc[(k_path_df['# of Bandwidth Classes'] == 20) & (k_path_df['# of Nodes'] == 50) & pd.notna(k_path_df['Bottleneck Latency (s)']), ['Bottleneck Latency (s)']]['Bottleneck Latency (s)']\n",
    "a = avg_df.to_numpy().mean()"
   ],
   "metadata": {
    "collapsed": false,
    "pycharm": {
     "name": "#%%\n"
    }
   }
  },
  {
   "cell_type": "code",
   "execution_count": 11,
   "outputs": [],
   "source": [
    "avg_df2 = other_df.loc[(other_df['# of Nodes'] == 50) & pd.notna(other_df['Bottleneck Latency (s)']), ['Bottleneck Latency (s)']]['Bottleneck Latency (s)']\n",
    "b = avg_df2.to_numpy().mean()"
   ],
   "metadata": {
    "collapsed": false,
    "pycharm": {
     "name": "#%%\n"
    }
   }
  },
  {
   "cell_type": "code",
   "execution_count": 12,
   "outputs": [
    {
     "name": "stdout",
     "output_type": "stream",
     "text": [
      "0.5289961771963636\n",
      "5.728774432\n",
      "982.9519529539958\n"
     ]
    }
   ],
   "source": [
    "print(a)\n",
    "print(b)\n",
    "print(((b-a) / a) * 100)"
   ],
   "metadata": {
    "collapsed": false,
    "pycharm": {
     "name": "#%%\n"
    }
   }
  },
  {
   "cell_type": "code",
   "execution_count": 12,
   "outputs": [],
   "source": [],
   "metadata": {
    "collapsed": false,
    "pycharm": {
     "name": "#%%\n"
    }
   }
  }
 ],
 "metadata": {
  "kernelspec": {
   "display_name": "Python 3",
   "language": "python",
   "name": "python3"
  },
  "language_info": {
   "codemirror_mode": {
    "name": "ipython",
    "version": 2
   },
   "file_extension": ".py",
   "mimetype": "text/x-python",
   "name": "python",
   "nbconvert_exporter": "python",
   "pygments_lexer": "ipython2",
   "version": "2.7.6"
  }
 },
 "nbformat": 4,
 "nbformat_minor": 0
}