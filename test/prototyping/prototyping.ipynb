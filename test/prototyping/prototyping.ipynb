{
 "cells": [
  {
   "cell_type": "code",
   "execution_count": 28,
   "metadata": {
    "pycharm": {
     "name": "#%%\n"
    }
   },
   "outputs": [
    {
     "name": "stdout",
     "output_type": "stream",
     "text": [
      "Requirement already satisfied: numpy in /Users/arjun/Desktop/GitHub/dist_edge_inference_DNN/venv/lib/python3.8/site-packages (1.22.4)\r\n",
      "Note: you may need to restart the kernel to use updated packages.\n",
      "Requirement already satisfied: tensorflow-macos in /Users/arjun/Desktop/GitHub/dist_edge_inference_DNN/venv/lib/python3.8/site-packages (2.9.0)\r\n",
      "Requirement already satisfied: packaging in /Users/arjun/Desktop/GitHub/dist_edge_inference_DNN/venv/lib/python3.8/site-packages (from tensorflow-macos) (21.3)\r\n",
      "Requirement already satisfied: grpcio<2.0,>=1.24.3 in /Users/arjun/Desktop/GitHub/dist_edge_inference_DNN/venv/lib/python3.8/site-packages (from tensorflow-macos) (1.46.3)\r\n",
      "Requirement already satisfied: h5py>=2.9.0 in /Users/arjun/Desktop/GitHub/dist_edge_inference_DNN/venv/lib/python3.8/site-packages (from tensorflow-macos) (3.7.0)\r\n",
      "Requirement already satisfied: protobuf>=3.9.2 in /Users/arjun/Desktop/GitHub/dist_edge_inference_DNN/venv/lib/python3.8/site-packages (from tensorflow-macos) (4.21.1)\r\n",
      "Requirement already satisfied: numpy>=1.20 in /Users/arjun/Desktop/GitHub/dist_edge_inference_DNN/venv/lib/python3.8/site-packages (from tensorflow-macos) (1.22.4)\r\n",
      "Requirement already satisfied: six>=1.12.0 in /Users/arjun/Desktop/GitHub/dist_edge_inference_DNN/venv/lib/python3.8/site-packages (from tensorflow-macos) (1.16.0)\r\n",
      "Requirement already satisfied: setuptools in /Users/arjun/Desktop/GitHub/dist_edge_inference_DNN/venv/lib/python3.8/site-packages (from tensorflow-macos) (60.2.0)\r\n",
      "Requirement already satisfied: libclang>=13.0.0 in /Users/arjun/Desktop/GitHub/dist_edge_inference_DNN/venv/lib/python3.8/site-packages (from tensorflow-macos) (14.0.1)\r\n",
      "Requirement already satisfied: typing-extensions>=3.6.6 in /Users/arjun/Desktop/GitHub/dist_edge_inference_DNN/venv/lib/python3.8/site-packages (from tensorflow-macos) (4.2.0)\r\n",
      "Requirement already satisfied: wrapt>=1.11.0 in /Users/arjun/Desktop/GitHub/dist_edge_inference_DNN/venv/lib/python3.8/site-packages (from tensorflow-macos) (1.14.1)\r\n",
      "Requirement already satisfied: gast<=0.4.0,>=0.2.1 in /Users/arjun/Desktop/GitHub/dist_edge_inference_DNN/venv/lib/python3.8/site-packages (from tensorflow-macos) (0.4.0)\r\n",
      "Requirement already satisfied: tensorboard<2.10,>=2.9 in /Users/arjun/Desktop/GitHub/dist_edge_inference_DNN/venv/lib/python3.8/site-packages (from tensorflow-macos) (2.9.0)\r\n",
      "Requirement already satisfied: keras-preprocessing>=1.1.1 in /Users/arjun/Desktop/GitHub/dist_edge_inference_DNN/venv/lib/python3.8/site-packages (from tensorflow-macos) (1.1.2)\r\n",
      "Requirement already satisfied: astunparse>=1.6.0 in /Users/arjun/Desktop/GitHub/dist_edge_inference_DNN/venv/lib/python3.8/site-packages (from tensorflow-macos) (1.6.3)\r\n",
      "Requirement already satisfied: termcolor>=1.1.0 in /Users/arjun/Desktop/GitHub/dist_edge_inference_DNN/venv/lib/python3.8/site-packages (from tensorflow-macos) (1.1.0)\r\n",
      "Requirement already satisfied: absl-py>=1.0.0 in /Users/arjun/Desktop/GitHub/dist_edge_inference_DNN/venv/lib/python3.8/site-packages (from tensorflow-macos) (1.0.0)\r\n",
      "Requirement already satisfied: flatbuffers<2,>=1.12 in /Users/arjun/Desktop/GitHub/dist_edge_inference_DNN/venv/lib/python3.8/site-packages (from tensorflow-macos) (1.12)\r\n",
      "Requirement already satisfied: google-pasta>=0.1.1 in /Users/arjun/Desktop/GitHub/dist_edge_inference_DNN/venv/lib/python3.8/site-packages (from tensorflow-macos) (0.2.0)\r\n",
      "Requirement already satisfied: tensorflow-estimator<2.10.0,>=2.9.0rc0 in /Users/arjun/Desktop/GitHub/dist_edge_inference_DNN/venv/lib/python3.8/site-packages (from tensorflow-macos) (2.9.0)\r\n",
      "Requirement already satisfied: keras<2.10.0,>=2.9.0rc0 in /Users/arjun/Desktop/GitHub/dist_edge_inference_DNN/venv/lib/python3.8/site-packages (from tensorflow-macos) (2.9.0)\r\n",
      "Requirement already satisfied: opt-einsum>=2.3.2 in /Users/arjun/Desktop/GitHub/dist_edge_inference_DNN/venv/lib/python3.8/site-packages (from tensorflow-macos) (3.3.0)\r\n",
      "Requirement already satisfied: wheel<1.0,>=0.23.0 in /Users/arjun/Desktop/GitHub/dist_edge_inference_DNN/venv/lib/python3.8/site-packages (from astunparse>=1.6.0->tensorflow-macos) (0.37.1)\r\n",
      "Requirement already satisfied: requests<3,>=2.21.0 in /Users/arjun/Desktop/GitHub/dist_edge_inference_DNN/venv/lib/python3.8/site-packages (from tensorboard<2.10,>=2.9->tensorflow-macos) (2.27.1)\r\n",
      "Requirement already satisfied: markdown>=2.6.8 in /Users/arjun/Desktop/GitHub/dist_edge_inference_DNN/venv/lib/python3.8/site-packages (from tensorboard<2.10,>=2.9->tensorflow-macos) (3.3.7)\r\n",
      "Requirement already satisfied: werkzeug>=1.0.1 in /Users/arjun/Desktop/GitHub/dist_edge_inference_DNN/venv/lib/python3.8/site-packages (from tensorboard<2.10,>=2.9->tensorflow-macos) (2.1.2)\r\n",
      "Requirement already satisfied: tensorboard-data-server<0.7.0,>=0.6.0 in /Users/arjun/Desktop/GitHub/dist_edge_inference_DNN/venv/lib/python3.8/site-packages (from tensorboard<2.10,>=2.9->tensorflow-macos) (0.6.1)\r\n",
      "Requirement already satisfied: google-auth<3,>=1.6.3 in /Users/arjun/Desktop/GitHub/dist_edge_inference_DNN/venv/lib/python3.8/site-packages (from tensorboard<2.10,>=2.9->tensorflow-macos) (2.6.6)\r\n",
      "Requirement already satisfied: google-auth-oauthlib<0.5,>=0.4.1 in /Users/arjun/Desktop/GitHub/dist_edge_inference_DNN/venv/lib/python3.8/site-packages (from tensorboard<2.10,>=2.9->tensorflow-macos) (0.4.6)\r\n",
      "Requirement already satisfied: tensorboard-plugin-wit>=1.6.0 in /Users/arjun/Desktop/GitHub/dist_edge_inference_DNN/venv/lib/python3.8/site-packages (from tensorboard<2.10,>=2.9->tensorflow-macos) (1.8.1)\r\n",
      "Requirement already satisfied: pyparsing!=3.0.5,>=2.0.2 in /Users/arjun/Desktop/GitHub/dist_edge_inference_DNN/venv/lib/python3.8/site-packages (from packaging->tensorflow-macos) (3.0.9)\r\n",
      "Requirement already satisfied: cachetools<6.0,>=2.0.0 in /Users/arjun/Desktop/GitHub/dist_edge_inference_DNN/venv/lib/python3.8/site-packages (from google-auth<3,>=1.6.3->tensorboard<2.10,>=2.9->tensorflow-macos) (5.2.0)\r\n",
      "Requirement already satisfied: pyasn1-modules>=0.2.1 in /Users/arjun/Desktop/GitHub/dist_edge_inference_DNN/venv/lib/python3.8/site-packages (from google-auth<3,>=1.6.3->tensorboard<2.10,>=2.9->tensorflow-macos) (0.2.8)\r\n",
      "Requirement already satisfied: rsa<5,>=3.1.4 in /Users/arjun/Desktop/GitHub/dist_edge_inference_DNN/venv/lib/python3.8/site-packages (from google-auth<3,>=1.6.3->tensorboard<2.10,>=2.9->tensorflow-macos) (4.8)\r\n",
      "Requirement already satisfied: requests-oauthlib>=0.7.0 in /Users/arjun/Desktop/GitHub/dist_edge_inference_DNN/venv/lib/python3.8/site-packages (from google-auth-oauthlib<0.5,>=0.4.1->tensorboard<2.10,>=2.9->tensorflow-macos) (1.3.1)\r\n",
      "Requirement already satisfied: importlib-metadata>=4.4 in /Users/arjun/Desktop/GitHub/dist_edge_inference_DNN/venv/lib/python3.8/site-packages (from markdown>=2.6.8->tensorboard<2.10,>=2.9->tensorflow-macos) (4.11.4)\r\n",
      "Requirement already satisfied: idna<4,>=2.5 in /Users/arjun/Desktop/GitHub/dist_edge_inference_DNN/venv/lib/python3.8/site-packages (from requests<3,>=2.21.0->tensorboard<2.10,>=2.9->tensorflow-macos) (3.3)\r\n",
      "Requirement already satisfied: certifi>=2017.4.17 in /Users/arjun/Desktop/GitHub/dist_edge_inference_DNN/venv/lib/python3.8/site-packages (from requests<3,>=2.21.0->tensorboard<2.10,>=2.9->tensorflow-macos) (2022.5.18.1)\r\n",
      "Requirement already satisfied: charset-normalizer~=2.0.0 in /Users/arjun/Desktop/GitHub/dist_edge_inference_DNN/venv/lib/python3.8/site-packages (from requests<3,>=2.21.0->tensorboard<2.10,>=2.9->tensorflow-macos) (2.0.12)\r\n",
      "Requirement already satisfied: urllib3<1.27,>=1.21.1 in /Users/arjun/Desktop/GitHub/dist_edge_inference_DNN/venv/lib/python3.8/site-packages (from requests<3,>=2.21.0->tensorboard<2.10,>=2.9->tensorflow-macos) (1.26.9)\r\n",
      "Requirement already satisfied: zipp>=0.5 in /Users/arjun/Desktop/GitHub/dist_edge_inference_DNN/venv/lib/python3.8/site-packages (from importlib-metadata>=4.4->markdown>=2.6.8->tensorboard<2.10,>=2.9->tensorflow-macos) (3.8.0)\r\n",
      "Requirement already satisfied: pyasn1<0.5.0,>=0.4.6 in /Users/arjun/Desktop/GitHub/dist_edge_inference_DNN/venv/lib/python3.8/site-packages (from pyasn1-modules>=0.2.1->google-auth<3,>=1.6.3->tensorboard<2.10,>=2.9->tensorflow-macos) (0.4.8)\r\n",
      "Requirement already satisfied: oauthlib>=3.0.0 in /Users/arjun/Desktop/GitHub/dist_edge_inference_DNN/venv/lib/python3.8/site-packages (from requests-oauthlib>=0.7.0->google-auth-oauthlib<0.5,>=0.4.1->tensorboard<2.10,>=2.9->tensorflow-macos) (3.2.0)\r\n",
      "Note: you may need to restart the kernel to use updated packages.\n",
      "Requirement already satisfied: networkx in /Users/arjun/Desktop/GitHub/dist_edge_inference_DNN/venv/lib/python3.8/site-packages (2.8.2)\r\n",
      "Note: you may need to restart the kernel to use updated packages.\n",
      "Requirement already satisfied: matplotlib in /Users/arjun/Desktop/GitHub/dist_edge_inference_DNN/venv/lib/python3.8/site-packages (3.5.2)\r\n",
      "Requirement already satisfied: kiwisolver>=1.0.1 in /Users/arjun/Desktop/GitHub/dist_edge_inference_DNN/venv/lib/python3.8/site-packages (from matplotlib) (1.4.2)\r\n",
      "Requirement already satisfied: pyparsing>=2.2.1 in /Users/arjun/Desktop/GitHub/dist_edge_inference_DNN/venv/lib/python3.8/site-packages (from matplotlib) (3.0.9)\r\n",
      "Requirement already satisfied: packaging>=20.0 in /Users/arjun/Desktop/GitHub/dist_edge_inference_DNN/venv/lib/python3.8/site-packages (from matplotlib) (21.3)\r\n",
      "Requirement already satisfied: python-dateutil>=2.7 in /Users/arjun/Desktop/GitHub/dist_edge_inference_DNN/venv/lib/python3.8/site-packages (from matplotlib) (2.8.2)\r\n",
      "Requirement already satisfied: pillow>=6.2.0 in /Users/arjun/Desktop/GitHub/dist_edge_inference_DNN/venv/lib/python3.8/site-packages (from matplotlib) (9.1.1)\r\n",
      "Requirement already satisfied: numpy>=1.17 in /Users/arjun/Desktop/GitHub/dist_edge_inference_DNN/venv/lib/python3.8/site-packages (from matplotlib) (1.22.4)\r\n",
      "Requirement already satisfied: fonttools>=4.22.0 in /Users/arjun/Desktop/GitHub/dist_edge_inference_DNN/venv/lib/python3.8/site-packages (from matplotlib) (4.33.3)\r\n",
      "Requirement already satisfied: cycler>=0.10 in /Users/arjun/Desktop/GitHub/dist_edge_inference_DNN/venv/lib/python3.8/site-packages (from matplotlib) (0.11.0)\r\n",
      "Requirement already satisfied: six>=1.5 in /Users/arjun/Desktop/GitHub/dist_edge_inference_DNN/venv/lib/python3.8/site-packages (from python-dateutil>=2.7->matplotlib) (1.16.0)\r\n",
      "Note: you may need to restart the kernel to use updated packages.\n",
      "Requirement already satisfied: pydot in /Users/arjun/Desktop/GitHub/dist_edge_inference_DNN/venv/lib/python3.8/site-packages (1.4.2)\r\n",
      "Requirement already satisfied: pyparsing>=2.1.4 in /Users/arjun/Desktop/GitHub/dist_edge_inference_DNN/venv/lib/python3.8/site-packages (from pydot) (3.0.9)\r\n",
      "Note: you may need to restart the kernel to use updated packages.\n",
      "Requirement already satisfied: scipy in /Users/arjun/Desktop/GitHub/dist_edge_inference_DNN/venv/lib/python3.8/site-packages (1.8.1)\r\n",
      "Requirement already satisfied: numpy<1.25.0,>=1.17.3 in /Users/arjun/Desktop/GitHub/dist_edge_inference_DNN/venv/lib/python3.8/site-packages (from scipy) (1.22.4)\r\n",
      "Note: you may need to restart the kernel to use updated packages.\n",
      "Requirement already satisfied: elkai in /Users/arjun/Desktop/GitHub/dist_edge_inference_DNN/venv/lib/python3.8/site-packages (0.1.2)\r\n",
      "Note: you may need to restart the kernel to use updated packages.\n",
      "Requirement already satisfied: bidict in /Users/arjun/Desktop/GitHub/dist_edge_inference_DNN/venv/lib/python3.8/site-packages (0.22.0)\r\n",
      "Note: you may need to restart the kernel to use updated packages.\n"
     ]
    }
   ],
   "source": [
    "%pip install numpy\n",
    "%pip install tensorflow-macos\n",
    "%pip install networkx\n",
    "%pip install matplotlib\n",
    "%pip install pydot\n",
    "%pip install scipy\n",
    "%pip install elkai\n",
    "%pip install bidict"
   ]
  },
  {
   "cell_type": "code",
   "execution_count": 1,
   "metadata": {
    "pycharm": {
     "name": "#%%\n"
    }
   },
   "outputs": [],
   "source": [
    "import tensorflow as tf\n",
    "from tensorflow import keras\n",
    "from keras.applications.resnet import ResNet50"
   ]
  },
  {
   "cell_type": "code",
   "execution_count": null,
   "metadata": {
    "pycharm": {
     "name": "#%%\n",
     "is_executing": true
    }
   },
   "outputs": [],
   "source": [
    "model = ResNet50(weights='imagenet')\n",
    "tf.keras.utils.plot_model(model, \"resnet.png\")"
   ]
  },
  {
   "cell_type": "code",
   "execution_count": 33,
   "metadata": {
    "pycharm": {
     "name": "#%%\n"
    }
   },
   "outputs": [],
   "source": [
    "def get_previous(model, layer_name):\n",
    "    inbound = model.get_layer(layer_name).inbound_nodes[0].inbound_layers\n",
    "    if type(inbound) != list:\n",
    "        inbound = [inbound]\n",
    "    return [layer.name for layer in inbound]\n",
    "\n",
    "# Traverses the model starting from layer_name all the way to start\n",
    "def traverse(model, layer_name, start, part_name, inpt):\n",
    "    # On subsequent recursive steps, the new input layer will be defined,\n",
    "    # so that name needs to be checked in base case\n",
    "    if (layer_name == start) or (layer_name == part_name):\n",
    "        return inpt\n",
    "\n",
    "    output = []\n",
    "    for n in get_previous(model, layer_name):\n",
    "        output.append(traverse(model, n, start, part_name, inpt))\n",
    "\n",
    "    # If the DAG node only has 1 previous connection\n",
    "    if len(output) == 1:\n",
    "        output = output[0]\n",
    "\n",
    "    layer = model.get_layer(layer_name)\n",
    "    to_next = layer(output)\n",
    "    return to_next"
   ]
  },
  {
   "cell_type": "code",
   "execution_count": 34,
   "outputs": [],
   "source": [
    "def construct_model(model, start, end, part_name=\"part_begin\"):\n",
    "    inpt = keras.Input(tensor=model.get_layer(start).output, name=part_name)\n",
    "    output = traverse(model, end, start, part_name, inpt)\n",
    "    part = keras.Model(inputs=model.get_layer(start).output, outputs=output)\n",
    "    return part"
   ],
   "metadata": {
    "collapsed": false,
    "pycharm": {
     "name": "#%%\n"
    }
   }
  },
  {
   "cell_type": "code",
   "execution_count": 35,
   "metadata": {
    "pycharm": {
     "name": "#%%\n"
    }
   },
   "outputs": [],
   "source": [
    "def keras_model_memory_usage_in_bytes(model, batch_size: int):\n",
    "    \"\"\"\n",
    "    Return the estimated memory usage of a given Keras model in bytes.\n",
    "    This includes the model weights and layers, but excludes the dataset.\n",
    "\n",
    "    The model shapes are multiplied by the batch size, but the weights are not.\n",
    "\n",
    "    Args:\n",
    "        model: A Keras model.\n",
    "        batch_size: The batch size you intend to run the model with. If you\n",
    "            have already specified the batch size in the model itself, then\n",
    "            pass `1` as the argument here.\n",
    "    Returns:\n",
    "        An estimate of the Keras model's memory usage in bytes.\n",
    "\n",
    "    \"\"\"\n",
    "    default_dtype = tf.keras.backend.floatx()\n",
    "    shapes_mem_count = 0\n",
    "    internal_model_mem_count = 0\n",
    "    for layer in model.layers:\n",
    "        if isinstance(layer, tf.keras.Model):\n",
    "            internal_model_mem_count += keras_model_memory_usage_in_bytes(\n",
    "                layer, batch_size=batch_size\n",
    "            )\n",
    "        single_layer_mem = tf.as_dtype(layer.dtype or default_dtype).size\n",
    "        out_shape = layer.output_shape\n",
    "        if isinstance(out_shape, list):\n",
    "            out_shape = out_shape[0]\n",
    "        for s in out_shape:\n",
    "            if s is None:\n",
    "                continue\n",
    "            single_layer_mem *= s\n",
    "        shapes_mem_count += single_layer_mem\n",
    "\n",
    "    trainable_count = sq_sum(\n",
    "        [tf.keras.backend.count_params(p) for p in model.trainable_weights]\n",
    "    )\n",
    "    non_trainable_count = sq_sum(\n",
    "        [tf.keras.backend.count_params(p) for p in model.non_trainable_weights]\n",
    "    )\n",
    "\n",
    "    total_memory = (\n",
    "        batch_size * shapes_mem_count\n",
    "        + internal_model_mem_count\n",
    "        + trainable_count\n",
    "        + non_trainable_count\n",
    "    )\n",
    "    return total_memory"
   ]
  },
  {
   "cell_type": "code",
   "execution_count": 36,
   "metadata": {
    "pycharm": {
     "name": "#%%\n"
    }
   },
   "outputs": [],
   "source": [
    "def keras_layer_memory(layer_name, batch_size: int):\n",
    "    default_dtype = tf.keras.backend.floatx()\n",
    "    shapes_mem_count = 0\n",
    "    internal_model_mem_count = 0\n",
    "    \n",
    "    if isinstance(layer_name, tf.keras.Model):\n",
    "        internal_model_mem_count += keras_model_memory_usage_in_bytes(\n",
    "            layer_name, batch_size=batch_size\n",
    "        )\n",
    "    single_layer_mem = tf.as_dtype(layer_name.dtype or default_dtype).size\n",
    "    out_shape = layer_name.output_shape\n",
    "    if isinstance(out_shape, list):\n",
    "        out_shape = out_shape[0]\n",
    "    for s in out_shape:\n",
    "        if s is None:\n",
    "            continue\n",
    "        single_layer_mem *= s\n",
    "    shapes_mem_count += single_layer_mem\n",
    "\n",
    "    trainable_count = sum(\n",
    "        [tf.keras.backend.count_params(p) for p in layer_name.trainable_weights]\n",
    "    )\n",
    "    non_trainable_count = sum(\n",
    "        [tf.keras.backend.count_params(p) for p in layer_name.non_trainable_weights]\n",
    "    )\n",
    "\n",
    "    total_memory = (\n",
    "        batch_size * shapes_mem_count\n",
    "        + internal_model_mem_count\n",
    "        + trainable_count\n",
    "        + non_trainable_count\n",
    "    )\n",
    "    return total_memory"
   ]
  },
  {
   "cell_type": "code",
   "execution_count": 37,
   "metadata": {
    "pycharm": {
     "name": "#%%\n"
    }
   },
   "outputs": [],
   "source": [
    "def get_next(model, layer_name):\n",
    "    outbound = model.get_layer(layer_name).outbound_nodes\n",
    "    return [node.outbound_layer.name for node in outbound]"
   ]
  },
  {
   "cell_type": "code",
   "execution_count": 38,
   "metadata": {
    "pycharm": {
     "name": "#%%\n"
    }
   },
   "outputs": [
    {
     "name": "stdout",
     "output_type": "stream",
     "text": [
      "['input_1', 'conv2d', 'batch_normalization', 'activation', 'conv2d_1', 'batch_normalization_1', 'activation_1', 'conv2d_2', 'batch_normalization_2', 'activation_2', 'max_pooling2d', 'conv2d_3', 'batch_normalization_3', 'activation_3', 'conv2d_4', 'batch_normalization_4', 'activation_4', 'max_pooling2d_1', 'conv2d_10', 'batch_normalization_10', 'activation_10', 'mixed_5b', 'conv2d_17', 'batch_normalization_17', 'activation_17', 'block35_1_mixed', 'block35_1_conv', 'block35_1', 'block35_1_ac', 'conv2d_23', 'batch_normalization_23', 'activation_23', 'block35_2_mixed', 'block35_2_conv', 'block35_2', 'block35_2_ac', 'conv2d_29', 'batch_normalization_29', 'activation_29', 'block35_3_mixed', 'block35_3_conv', 'block35_3', 'block35_3_ac', 'conv2d_35', 'batch_normalization_35', 'activation_35', 'block35_4_mixed', 'block35_4_conv', 'block35_4', 'block35_4_ac', 'conv2d_41', 'batch_normalization_41', 'activation_41', 'block35_5_mixed', 'block35_5_conv', 'block35_5', 'block35_5_ac', 'conv2d_47', 'batch_normalization_47', 'activation_47', 'block35_6_mixed', 'block35_6_conv', 'block35_6', 'block35_6_ac', 'conv2d_53', 'batch_normalization_53', 'activation_53', 'block35_7_mixed', 'block35_7_conv', 'block35_7', 'block35_7_ac', 'conv2d_59', 'batch_normalization_59', 'activation_59', 'block35_8_mixed', 'block35_8_conv', 'block35_8', 'block35_8_ac', 'conv2d_65', 'batch_normalization_65', 'activation_65', 'block35_9_mixed', 'block35_9_conv', 'block35_9', 'block35_9_ac', 'conv2d_71', 'batch_normalization_71', 'activation_71', 'block35_10_mixed', 'block35_10_conv', 'block35_10', 'block35_10_ac', 'conv2d_74', 'batch_normalization_74', 'activation_74', 'conv2d_75', 'batch_normalization_75', 'activation_75', 'mixed_6a', 'conv2d_78', 'batch_normalization_78', 'activation_78', 'conv2d_79', 'batch_normalization_79', 'activation_79', 'block17_1_mixed', 'block17_1_conv', 'block17_1', 'block17_1_ac', 'conv2d_82', 'batch_normalization_82', 'activation_82', 'conv2d_83', 'batch_normalization_83', 'activation_83', 'block17_2_mixed', 'block17_2_conv', 'block17_2', 'block17_2_ac', 'conv2d_86', 'batch_normalization_86', 'activation_86', 'conv2d_87', 'batch_normalization_87', 'activation_87', 'block17_3_mixed', 'block17_3_conv', 'block17_3', 'block17_3_ac', 'conv2d_90', 'batch_normalization_90', 'activation_90', 'conv2d_91', 'batch_normalization_91', 'activation_91', 'block17_4_mixed', 'block17_4_conv', 'block17_4', 'block17_4_ac', 'conv2d_94', 'batch_normalization_94', 'activation_94', 'conv2d_95', 'batch_normalization_95', 'activation_95', 'block17_5_mixed', 'block17_5_conv', 'block17_5', 'block17_5_ac', 'conv2d_98', 'batch_normalization_98', 'activation_98', 'conv2d_99', 'batch_normalization_99', 'activation_99', 'block17_6_mixed', 'block17_6_conv', 'block17_6', 'block17_6_ac', 'conv2d_102', 'batch_normalization_102', 'activation_102', 'conv2d_103', 'batch_normalization_103', 'activation_103', 'block17_7_mixed', 'block17_7_conv', 'block17_7', 'block17_7_ac', 'conv2d_106', 'batch_normalization_106', 'activation_106', 'conv2d_107', 'batch_normalization_107', 'activation_107', 'block17_8_mixed', 'block17_8_conv', 'block17_8', 'block17_8_ac', 'conv2d_110', 'batch_normalization_110', 'activation_110', 'conv2d_111', 'batch_normalization_111', 'activation_111', 'block17_9_mixed', 'block17_9_conv', 'block17_9', 'block17_9_ac', 'conv2d_114', 'batch_normalization_114', 'activation_114', 'conv2d_115', 'batch_normalization_115', 'activation_115', 'block17_10_mixed', 'block17_10_conv', 'block17_10', 'block17_10_ac', 'conv2d_118', 'batch_normalization_118', 'activation_118', 'conv2d_119', 'batch_normalization_119', 'activation_119', 'block17_11_mixed', 'block17_11_conv', 'block17_11', 'block17_11_ac', 'conv2d_122', 'batch_normalization_122', 'activation_122', 'conv2d_123', 'batch_normalization_123', 'activation_123', 'block17_12_mixed', 'block17_12_conv', 'block17_12', 'block17_12_ac', 'conv2d_126', 'batch_normalization_126', 'activation_126', 'conv2d_127', 'batch_normalization_127', 'activation_127', 'block17_13_mixed', 'block17_13_conv', 'block17_13', 'block17_13_ac', 'conv2d_130', 'batch_normalization_130', 'activation_130', 'conv2d_131', 'batch_normalization_131', 'activation_131', 'block17_14_mixed', 'block17_14_conv', 'block17_14', 'block17_14_ac', 'conv2d_134', 'batch_normalization_134', 'activation_134', 'conv2d_135', 'batch_normalization_135', 'activation_135', 'block17_15_mixed', 'block17_15_conv', 'block17_15', 'block17_15_ac', 'conv2d_138', 'batch_normalization_138', 'activation_138', 'conv2d_139', 'batch_normalization_139', 'activation_139', 'block17_16_mixed', 'block17_16_conv', 'block17_16', 'block17_16_ac', 'conv2d_142', 'batch_normalization_142', 'activation_142', 'conv2d_143', 'batch_normalization_143', 'activation_143', 'block17_17_mixed', 'block17_17_conv', 'block17_17', 'block17_17_ac', 'conv2d_146', 'batch_normalization_146', 'activation_146', 'conv2d_147', 'batch_normalization_147', 'activation_147', 'block17_18_mixed', 'block17_18_conv', 'block17_18', 'block17_18_ac', 'conv2d_150', 'batch_normalization_150', 'activation_150', 'conv2d_151', 'batch_normalization_151', 'activation_151', 'block17_19_mixed', 'block17_19_conv', 'block17_19', 'block17_19_ac', 'conv2d_154', 'batch_normalization_154', 'activation_154', 'conv2d_155', 'batch_normalization_155', 'activation_155', 'block17_20_mixed', 'block17_20_conv', 'block17_20', 'block17_20_ac', 'conv2d_162', 'batch_normalization_162', 'activation_162', 'mixed_7a', 'conv2d_165', 'batch_normalization_165', 'activation_165', 'conv2d_166', 'batch_normalization_166', 'activation_166', 'block8_1_mixed', 'block8_1_conv', 'block8_1', 'block8_1_ac', 'conv2d_169', 'batch_normalization_169', 'activation_169', 'conv2d_170', 'batch_normalization_170', 'activation_170', 'block8_2_mixed', 'block8_2_conv', 'block8_2', 'block8_2_ac', 'conv2d_173', 'batch_normalization_173', 'activation_173', 'conv2d_174', 'batch_normalization_174', 'activation_174', 'block8_3_mixed', 'block8_3_conv', 'block8_3', 'block8_3_ac', 'conv2d_177', 'batch_normalization_177', 'activation_177', 'conv2d_178', 'batch_normalization_178', 'activation_178', 'block8_4_mixed', 'block8_4_conv', 'block8_4', 'block8_4_ac', 'conv2d_181', 'batch_normalization_181', 'activation_181', 'conv2d_182', 'batch_normalization_182', 'activation_182', 'block8_5_mixed', 'block8_5_conv', 'block8_5', 'block8_5_ac', 'conv2d_185', 'batch_normalization_185', 'activation_185', 'conv2d_186', 'batch_normalization_186', 'activation_186', 'block8_6_mixed', 'block8_6_conv', 'block8_6', 'block8_6_ac', 'conv2d_189', 'batch_normalization_189', 'activation_189', 'conv2d_190', 'batch_normalization_190', 'activation_190', 'block8_7_mixed', 'block8_7_conv', 'block8_7', 'block8_7_ac', 'conv2d_193', 'batch_normalization_193', 'activation_193', 'conv2d_194', 'batch_normalization_194', 'activation_194', 'block8_8_mixed', 'block8_8_conv', 'block8_8', 'block8_8_ac', 'conv2d_197', 'batch_normalization_197', 'activation_197', 'conv2d_198', 'batch_normalization_198', 'activation_198', 'block8_9_mixed', 'block8_9_conv', 'block8_9', 'block8_9_ac', 'conv2d_201', 'batch_normalization_201', 'activation_201', 'conv2d_202', 'batch_normalization_202', 'activation_202', 'block8_10_mixed', 'block8_10_conv', 'block8_10', 'conv_7b', 'conv_7b_bn', 'conv_7b_ac', 'avg_pool', 'predictions']\n"
     ]
    }
   ],
   "source": [
    "# A recursive function used by longest_path. See below\n",
    "# link for details\n",
    "# https:#www.geeksforgeeks.org/topological-sorting/\n",
    "def topological_sort_util(model: keras.Model, v: str):\n",
    "    global Stack, visited\n",
    "    visited[v] = True\n",
    "\n",
    "    # Recur for all the vertices adjacent to this vertex\n",
    "    # list<AdjListNode>::iterator i\n",
    "    for i in get_next(model, v):\n",
    "        if not visited[i]:\n",
    "            topological_sort_util(model, i)\n",
    "\n",
    "    # Push current vertex to stack which stores topological\n",
    "    # sort\n",
    "    Stack.append(v)\n",
    "\n",
    "# The function to find longest distances from a given vertex.\n",
    "# It uses recursive topologicalSortUtil() to get topological\n",
    "# sorting.\n",
    "def longest_path(model: keras.Model, s: str):\n",
    "    global Stack, layer_level, visited\n",
    "    for l in model.layers:\n",
    "        visited[l.name] = False\n",
    "        layer_level[l.name] = -1 # Equal to -infty\n",
    "\n",
    "    # Call the recursive helper function to store Topological\n",
    "    # Sort starting from all vertices one by one\n",
    "    for l in model.layers:\n",
    "        if not visited[l.name]:\n",
    "            topological_sort_util(model, l.name)\n",
    "\n",
    "    # Initialize distances to all vertices as infinite and\n",
    "    # distance to source as 0\n",
    "    layer_level[s] = 0\n",
    "    # Stack.append(1)\n",
    "\n",
    "    # Process vertices in topological order\n",
    "    while len(Stack) > 0:\n",
    "\n",
    "        # Get the next vertex from topological order\n",
    "        u = Stack.pop()\n",
    "\n",
    "        # Update distances of all adjacent vertices\n",
    "        # list<AdjListNode>::iterator i\n",
    "        if layer_level[u] != -1:\n",
    "            for i in get_next(model, u):\n",
    "                if layer_level[i] < layer_level[u] + 1:\n",
    "                    layer_level[i] = layer_level[u] + 1 # Each edge weighted 1\n",
    "\n",
    "    # Create array of calculated longest distances to layer\n",
    "    layers_at_level = [[]] * len(layer_level)\n",
    "    for l in model.layers:\n",
    "        if len(layers_at_level[layer_level[l.name]]) == 0:\n",
    "            layers_at_level[layer_level[l.name]] = []\n",
    "\n",
    "        layers_at_level[layer_level[l.name]].append(l.name)\n",
    "\n",
    "    return layers_at_level\n",
    "\n",
    "\n",
    "Stack = []\n",
    "visited = {}\n",
    "layer_level = {}\n",
    "\n",
    "def find_singletons(model):\n",
    "    # Model only has 1 input, which is input_names[0]\n",
    "    name = model.input_names[0]\n",
    "    # Finding the longest path from the start to every other layer\n",
    "    levels = longest_path(model, name)\n",
    "    singletons = []\n",
    "    for l in range(len(levels)):\n",
    "        if len(levels[l]) == 1:\n",
    "            singletons.append(levels[l][0])\n",
    "    return levels, singletons\n",
    "\n",
    "levels, singletons = find_singletons(model)\n",
    "print(singletons)"
   ]
  },
  {
   "cell_type": "code",
   "execution_count": 39,
   "metadata": {
    "pycharm": {
     "name": "#%%\n"
    }
   },
   "outputs": [],
   "source": [
    "def find_all_paths_util(u, d, visited, path, all_paths):\n",
    "    # If the distance of the current path is greater than the longest path (the \"level\") to the destination node, we know the destination node can't be a partition point\n",
    "    if layer_level[u] > layer_level[d]:\n",
    "        return False\n",
    "    # Mark the current node as visited and store in path\n",
    "    visited[u] = True\n",
    "    path.append(u)\n",
    "\n",
    "    # If current vertex is same as destination, then print\n",
    "    # current path[] (because we've found a path from u to d)\n",
    "    if u == d:\n",
    "        exists = False\n",
    "        # See if path already exists in list of paths\n",
    "        for p in all_paths:\n",
    "            if p == path:\n",
    "                exists = True\n",
    "                break\n",
    "        \n",
    "        if not exists:\n",
    "            all_paths.append(path.copy())\n",
    "    else:\n",
    "        # If current vertex is not destination\n",
    "        # Recur for all the vertices adjacent to this vertex\n",
    "        for i in get_next(model, u):\n",
    "            if not visited[i]:\n",
    "                ret = find_all_paths_util(i, d, visited, path, all_paths)\n",
    "                if not ret:\n",
    "                    return False\n",
    "                \n",
    "    # Remove current vertex from path[] and mark it as unvisited\n",
    "    path.pop()\n",
    "    visited[u] = False\n",
    "    return True\n",
    "\n",
    "\n",
    "# Finds all paths from 's' to 'd', and returns false if a there exists a path from s that has a greater \"level\" than d\n",
    "def find_all_paths(s, d):\n",
    "    # Mark all the vertices as not visited\n",
    "    visited = {}\n",
    "    for l in model.layers:\n",
    "        visited[l.name] = False\n",
    "\n",
    "    # Create an array to store paths\n",
    "    path = []\n",
    "    all_paths = []\n",
    "\n",
    "    # Call the recursive helper function to find all paths\n",
    "    return find_all_paths_util(s, d, visited, path, all_paths)"
   ]
  },
  {
   "cell_type": "code",
   "execution_count": 40,
   "metadata": {
    "pycharm": {
     "name": "#%%\n"
    }
   },
   "outputs": [
    {
     "name": "stdout",
     "output_type": "stream",
     "text": [
      "['input_1', 'conv2d', 'batch_normalization', 'activation', 'conv2d_1', 'batch_normalization_1', 'activation_1', 'conv2d_2', 'batch_normalization_2', 'activation_2', 'max_pooling2d', 'conv2d_3', 'batch_normalization_3', 'activation_3', 'conv2d_4', 'batch_normalization_4', 'activation_4', 'max_pooling2d_1', 'mixed_5b', 'block35_1', 'block35_1_ac', 'block35_2', 'block35_2_ac', 'block35_3', 'block35_3_ac', 'block35_4', 'block35_4_ac', 'block35_5', 'block35_5_ac', 'block35_6', 'block35_6_ac', 'block35_7', 'block35_7_ac', 'block35_8', 'block35_8_ac', 'block35_9', 'block35_9_ac', 'block35_10', 'block35_10_ac', 'mixed_6a', 'block17_1', 'block17_1_ac', 'block17_2', 'block17_2_ac', 'block17_3', 'block17_3_ac', 'block17_4', 'block17_4_ac', 'block17_5', 'block17_5_ac', 'block17_6', 'block17_6_ac', 'block17_7', 'block17_7_ac', 'block17_8', 'block17_8_ac', 'block17_9', 'block17_9_ac', 'block17_10', 'block17_10_ac', 'block17_11', 'block17_11_ac', 'block17_12', 'block17_12_ac', 'block17_13', 'block17_13_ac', 'block17_14', 'block17_14_ac', 'block17_15', 'block17_15_ac', 'block17_16', 'block17_16_ac', 'block17_17', 'block17_17_ac', 'block17_18', 'block17_18_ac', 'block17_19', 'block17_19_ac', 'block17_20', 'block17_20_ac', 'mixed_7a', 'block8_1', 'block8_1_ac', 'block8_2', 'block8_2_ac', 'block8_3', 'block8_3_ac', 'block8_4', 'block8_4_ac', 'block8_5', 'block8_5_ac', 'block8_6', 'block8_6_ac', 'block8_7', 'block8_7_ac', 'block8_8', 'block8_8_ac', 'block8_9', 'block8_9_ac', 'block8_10', 'conv_7b', 'conv_7b_bn', 'conv_7b_ac', 'avg_pool', 'predictions']\n"
     ]
    }
   ],
   "source": [
    "def partitions_util(prev, singleton_nodes, partitions):\n",
    "    # Reached the end of the model and found all the partitions\n",
    "    if len(singleton_nodes) == 0:\n",
    "        return partitions\n",
    "    p = False\n",
    "    i = -1 # So first i starts at 0\n",
    "    # Starting from the previous partition point, we iterate through all the subsequent singleton nodes to find the next partition point\n",
    "    while not p:\n",
    "        i += 1\n",
    "        p = find_all_paths(prev, singleton_nodes[i])\n",
    "    \n",
    "    partitions.append(singleton_nodes[i])\n",
    "    return partitions_util(singleton_nodes[i], singleton_nodes[i + 1:], partitions)\n",
    "\n",
    "def find_partitions(model: keras.Model):\n",
    "    inpt = model.input_names[0]\n",
    "    return partitions_util(inpt, find_singletons(model)[1], [])\n",
    "\n",
    "partition_pts = find_partitions(model)\n",
    "print(partition_pts)"
   ]
  },
  {
   "cell_type": "code",
   "execution_count": 41,
   "metadata": {
    "pycharm": {
     "name": "#%%\n"
    }
   },
   "outputs": [
    {
     "name": "stdout",
     "output_type": "stream",
     "text": [
      "{'conv2d': 2842592, 'batch_normalization': 2841824, 'activation': 2841728, 'conv2d_1': 2775168, 'batch_normalization_1': 2766048, 'activation_1': 2765952, 'conv2d_2': 5550336, 'batch_normalization_2': 5532096, 'activation_2': 5531904, 'max_pooling2d': 1364224, 'conv2d_3': 1710400, 'batch_normalization_3': 1705520, 'activation_3': 1705280, 'conv2d_4': 4009728, 'batch_normalization_4': 3872064, 'activation_4': 3871488, 'max_pooling2d_1': 940800, 'mixed_5b': 10539248, 'block35_1': 7414608, 'block35_1_ac': 1568000, 'block35_2': 7414608, 'block35_2_ac': 1568000, 'block35_3': 7414608, 'block35_3_ac': 1568000, 'block35_4': 7414608, 'block35_4_ac': 1568000, 'block35_5': 7414608, 'block35_5_ac': 1568000, 'block35_6': 7414608, 'block35_6_ac': 1568000, 'block35_7': 7414608, 'block35_7_ac': 1568000, 'block35_8': 7414608, 'block35_8_ac': 1568000, 'block35_9': 7414608, 'block35_9_ac': 1568000, 'block35_10': 7414608, 'block35_10_ac': 1568000, 'mixed_6a': 14483712, 'block17_1': 6417312, 'block17_1_ac': 1257728, 'block17_2': 6417312, 'block17_2_ac': 1257728, 'block17_3': 6417312, 'block17_3_ac': 1257728, 'block17_4': 6417312, 'block17_4_ac': 1257728, 'block17_5': 6417312, 'block17_5_ac': 1257728, 'block17_6': 6417312, 'block17_6_ac': 1257728, 'block17_7': 6417312, 'block17_7_ac': 1257728, 'block17_8': 6417312, 'block17_8_ac': 1257728, 'block17_9': 6417312, 'block17_9_ac': 1257728, 'block17_10': 6417312, 'block17_10_ac': 1257728, 'block17_11': 6417312, 'block17_11_ac': 1257728, 'block17_12': 6417312, 'block17_12_ac': 1257728, 'block17_13': 6417312, 'block17_13_ac': 1257728, 'block17_14': 6417312, 'block17_14_ac': 1257728, 'block17_15': 6417312, 'block17_15_ac': 1257728, 'block17_16': 6417312, 'block17_16_ac': 1257728, 'block17_17': 6417312, 'block17_17_ac': 1257728, 'block17_18': 6417312, 'block17_18_ac': 1257728, 'block17_19': 6417312, 'block17_19_ac': 1257728, 'block17_20': 6417312, 'block17_20_ac': 1257728, 'mixed_7a': 9118080, 'block8_1': 3879488, 'block8_1_ac': 532480, 'block8_2': 3879488, 'block8_2_ac': 532480, 'block8_3': 3879488, 'block8_3_ac': 532480, 'block8_4': 3879488, 'block8_4_ac': 532480, 'block8_5': 3879488, 'block8_5_ac': 532480, 'block8_6': 3879488, 'block8_6_ac': 532480, 'block8_7': 3879488, 'block8_7_ac': 532480, 'block8_8': 3879488, 'block8_8_ac': 532480, 'block8_9': 3879488, 'block8_9_ac': 532480, 'block8_10': 3879488, 'conv_7b': 3588096, 'conv_7b_bn': 397824, 'conv_7b_ac': 393216, 'avg_pool': 6144, 'predictions': 1541000}\n"
     ]
    }
   ],
   "source": [
    "def find_partition_memory(partition_points):\n",
    "    parts_to_mem = {}\n",
    "    part_mems = []\n",
    "    for i in range(1, len(partition_points)):\n",
    "        # Going backwards along layers within partition to find total memory usage\n",
    "        start = layer_level[partition_points[i]]\n",
    "        end = layer_level[partition_points[i - 1]]\n",
    "        mem = 0\n",
    "        for j in range(start, end, -1):\n",
    "            for l in levels[j]:\n",
    "                layer_mem = keras_layer_memory(model.get_layer(l), 1)\n",
    "                mem += layer_mem\n",
    "        parts_to_mem[partition_points[i]] = mem\n",
    "        part_mems.append(mem)\n",
    "    return parts_to_mem, part_mems\n",
    "\n",
    "partition_mem_dict, partition_mems = find_partition_memory(partition_pts)\n",
    "print(partition_mem_dict)"
   ]
  },
  {
   "cell_type": "code",
   "execution_count": 42,
   "outputs": [
    {
     "name": "stdout",
     "output_type": "stream",
     "text": [
      "{'conv2d': 710432, 'batch_normalization': 710432, 'activation': 710432, 'conv2d_1': 691488, 'batch_normalization_1': 691488, 'activation_1': 691488, 'conv2d_2': 1382976, 'batch_normalization_2': 1382976, 'activation_2': 1382976, 'max_pooling2d': 341056, 'conv2d_3': 426320, 'batch_normalization_3': 426320, 'activation_3': 426320, 'conv2d_4': 967872, 'batch_normalization_4': 967872, 'activation_4': 967872, 'max_pooling2d_1': 940800, 'mixed_5b': 1568000, 'block35_1': 392000, 'block35_1_ac': 1568000, 'block35_2': 392000, 'block35_2_ac': 1568000, 'block35_3': 392000, 'block35_3_ac': 1568000, 'block35_4': 392000, 'block35_4_ac': 1568000, 'block35_5': 392000, 'block35_5_ac': 1568000, 'block35_6': 392000, 'block35_6_ac': 1568000, 'block35_7': 392000, 'block35_7_ac': 1568000, 'block35_8': 392000, 'block35_8_ac': 1568000, 'block35_9': 392000, 'block35_9_ac': 1568000, 'block35_10': 392000, 'block35_10_ac': 1176000, 'mixed_6a': 943296, 'block17_1': 314432, 'block17_1_ac': 943296, 'block17_2': 314432, 'block17_2_ac': 943296, 'block17_3': 314432, 'block17_3_ac': 943296, 'block17_4': 314432, 'block17_4_ac': 943296, 'block17_5': 314432, 'block17_5_ac': 943296, 'block17_6': 314432, 'block17_6_ac': 943296, 'block17_7': 314432, 'block17_7_ac': 943296, 'block17_8': 314432, 'block17_8_ac': 943296, 'block17_9': 314432, 'block17_9_ac': 943296, 'block17_10': 314432, 'block17_10_ac': 943296, 'block17_11': 314432, 'block17_11_ac': 943296, 'block17_12': 314432, 'block17_12_ac': 943296, 'block17_13': 314432, 'block17_13_ac': 943296, 'block17_14': 314432, 'block17_14_ac': 943296, 'block17_15': 314432, 'block17_15_ac': 943296, 'block17_16': 314432, 'block17_16_ac': 943296, 'block17_17': 314432, 'block17_17_ac': 943296, 'block17_18': 314432, 'block17_18_ac': 943296, 'block17_19': 314432, 'block17_19_ac': 943296, 'block17_20': 314432, 'block17_20_ac': 1257728, 'mixed_7a': 399360, 'block8_1': 133120, 'block8_1_ac': 399360, 'block8_2': 133120, 'block8_2_ac': 399360, 'block8_3': 133120, 'block8_3_ac': 399360, 'block8_4': 133120, 'block8_4_ac': 399360, 'block8_5': 133120, 'block8_5_ac': 399360, 'block8_6': 133120, 'block8_6_ac': 399360, 'block8_7': 133120, 'block8_7_ac': 399360, 'block8_8': 133120, 'block8_8_ac': 399360, 'block8_9': 133120, 'block8_9_ac': 399360, 'block8_10': 133120, 'conv_7b': 98304, 'conv_7b_bn': 98304, 'conv_7b_ac': 98304, 'avg_pool': 1536, 'predictions': 0}\n"
     ]
    }
   ],
   "source": [
    "def find_partition_transfer_size(partition_points):\n",
    "    parts_transfer_size_dict = {}\n",
    "    transfer_sizes = []\n",
    "    a = []\n",
    "    for i in range(1, len(partition_points)):\n",
    "        #print(f\"{partition_points[i]}: {len(model.get_layer(partition_points[i]).outbound_nodes)}\")\n",
    "        num_outbound = len(model.get_layer(partition_points[i]).outbound_nodes)\n",
    "\n",
    "        # Iterate through all elements of shape tuple except first one (which is batch size)\n",
    "        output_size = 1\n",
    "        for s in model.get_layer(partition_points[i]).get_output_at(0).get_shape()[1:]:\n",
    "            output_size *= s\n",
    "        # All outputs of the model are the same size, the total size will be (output size * num_output_nodes)\n",
    "        transfer_size = num_outbound * output_size\n",
    "\n",
    "        parts_transfer_size_dict[partition_points[i]] = transfer_size\n",
    "        transfer_sizes.append(transfer_size)\n",
    "\n",
    "    return parts_transfer_size_dict, transfer_sizes\n",
    "\n",
    "transfer_size_dict, transfer_size_list = find_partition_transfer_size(partition_pts)\n",
    "print(transfer_size_dict)"
   ],
   "metadata": {
    "collapsed": false,
    "pycharm": {
     "name": "#%%\n"
    }
   }
  },
  {
   "cell_type": "code",
   "execution_count": 43,
   "outputs": [
    {
     "name": "stdout",
     "output_type": "stream",
     "text": [
      "0.7017242439455266\n"
     ]
    }
   ],
   "source": [
    "arr = np.array(transfer_size_list)\n",
    "m = np.mean(arr)\n",
    "sq_sum = 0\n",
    "for z in arr:\n",
    "    sq_sum += (z - m) ** 2\n",
    "stdev = math.sqrt(sq_sum / len(arr))\n",
    "coeff_of_variation = stdev / m\n",
    "# Coefficient of Variation is less than 1, so it's not that high\n",
    "print(coeff_of_variation)"
   ],
   "metadata": {
    "collapsed": false,
    "pycharm": {
     "name": "#%%\n"
    }
   }
  },
  {
   "cell_type": "code",
   "execution_count": 56,
   "outputs": [
    {
     "data": {
      "text/plain": "<Figure size 432x288 with 1 Axes>",
      "image/png": "[encoded data removed]"
     },
     "metadata": {},
     "output_type": "display_data"
    }
   ],
   "source": [
    "num_nodes = 10\n",
    "communication_graph = nx.random_geometric_graph([chr(i) for i in range(ord('A'), ord('A') + num_nodes)], 2, dim=3, seed=5)\n",
    "\n",
    "# Bidict mapping index in distance matrix row/column to name of node\n",
    "name_to_idx = bidict({chr(i):(i - ord('A')) for i in range(ord('A'), ord('A') + num_nodes)})\n",
    "\n",
    "weighted_edges = []\n",
    "for j in communication_graph.edges:\n",
    "    u = j[0]\n",
    "    v = j[1]\n",
    "    w = scipy.spatial.distance.euclidean(communication_graph.nodes[u][\"pos\"], communication_graph.nodes[v][\"pos\"])\n",
    "    weighted_edges.append((u, v, w))\n",
    "communication_graph.add_weighted_edges_from(weighted_edges)\n",
    "nx.draw_networkx(communication_graph)"
   ],
   "metadata": {
    "collapsed": false,
    "pycharm": {
     "name": "#%%\n"
    }
   }
  },
  {
   "cell_type": "code",
   "execution_count": 57,
   "outputs": [
    {
     "name": "stdout",
     "output_type": "stream",
     "text": [
      "['A', 'F', 'J', 'C', 'E', 'B', 'H', 'D', 'I', 'G']\n"
     ]
    }
   ],
   "source": [
    "def order_edge_weights(g: nx.Graph):\n",
    "    edges=sorted(g.edges().data('weight'), key=lambda t: t[2])\n",
    "    return edges\n",
    "\n",
    "# Zero/One Cost Matrix as used in http://www.cs.unb.ca/tech-reports/honours-theses/John.LaRusic-4997.pdf\n",
    "def build_cost_matrix(E, b: int):\n",
    "    matrix = [[0] * num_nodes] * num_nodes\n",
    "    for e in E:\n",
    "        w = 1\n",
    "        if e[2] <= b:\n",
    "            w = 0\n",
    "        matrix[name_to_idx[e[0]]][name_to_idx[e[1]]] = w\n",
    "\n",
    "    return matrix\n",
    "\n",
    "# Returns the length of a tour given by an ordered list of vertices\n",
    "def get_tour_length(t: List[int], dist: List[List]):\n",
    "    length = 0\n",
    "    for i in range(len(t) - 1):\n",
    "        length += dist[t[i]][t[i+1]]\n",
    "    return length\n",
    "\n",
    "def btsp_binary_search(g: nx.Graph):\n",
    "    E = order_edge_weights(g)\n",
    "    low = 0\n",
    "    high = len(E)\n",
    "    best_tour = []\n",
    "    while low < high:\n",
    "        median = ((high - low) // 2) + low\n",
    "        med_cost = E[median][2]\n",
    "        D = build_cost_matrix(E, med_cost)\n",
    "        tour = elkai.solve_int_matrix(D)\n",
    "        length = get_tour_length(tour, D)\n",
    "        if length == 0:\n",
    "            high = median\n",
    "            best_tour = tour\n",
    "        else:\n",
    "            low = median + 1\n",
    "\n",
    "    tour_names = [name_to_idx.inverse[t] for t in best_tour]\n",
    "    return tour_names\n",
    "\n",
    "print(btsp_binary_search(communication_graph))"
   ],
   "metadata": {
    "collapsed": false,
    "pycharm": {
     "name": "#%%\n"
    }
   }
  },
  {
   "cell_type": "code",
   "execution_count": 65,
   "outputs": [
    {
     "name": "stdout",
     "output_type": "stream",
     "text": [
      "Model successfully partitioned\n",
      "{'A': ('input_1', 'max_pooling2d'), 'F': ('conv2d_3', 'block35_1'), 'J': ('block35_1_ac', 'block17_1'), 'C': ('block17_1_ac', 'block17_4'), 'E': ('block17_4_ac', 'block17_7'), 'B': ('block17_7_ac', 'block17_10'), 'H': ('block17_10_ac', 'block8_1'), 'D': ('block8_1_ac', 'predictions')}\n"
     ]
    }
   ],
   "source": [
    "def partition_model(parts: List[str], part_mems: List[int], part_data_size: List[int], node_capacities: List[int], communication_graph: nx.Graph) -> Dict[str, Tuple[str, str]]:\n",
    "    min_cap_per_node = node_capacities[0] / len(node_capacities)\n",
    "    models = []\n",
    "    prev_partition_point = 0\n",
    "    for c in range(len(node_capacities)):\n",
    "        # We've partitioned the model in less physical nodes than we have\n",
    "        if prev_partition_point > len(part_mems) - 1:\n",
    "            break\n",
    "        p = prev_partition_point\n",
    "        min_data_size = part_data_size[p]\n",
    "        min_data_size_ind = p\n",
    "        while sum(part_mems[prev_partition_point : p]) < node_capacities[c]:\n",
    "            # divide node capacity by number of nodes, and make sure that each node has at least that amount of capacity, to make sure we fit the model into the nodes\n",
    "            if part_data_size[p] < min_data_size and sum(part_mems[prev_partition_point : p]) > min_cap_per_node:\n",
    "                min_data_size = part_data_size[p]\n",
    "                min_data_size_ind = p\n",
    "            # End of partition points\n",
    "            if p == len(part_mems) - 1:\n",
    "                break\n",
    "            p += 1\n",
    "        min_data_size_partition_pt = parts[min_data_size_ind + 1]\n",
    "        models.append((parts[prev_partition_point + 1], min_data_size_partition_pt))\n",
    "\n",
    "        # The \"+1\" is so that the next partition starts at the layer after the previous partition\n",
    "        prev_partition_point = min_data_size_ind + 1\n",
    "\n",
    "    # The first partition should start from the input layer\n",
    "    models[0] = (parts[0], models[0][1])\n",
    "    # The last partition should end with the output layer\n",
    "    models[-1] = (models[-1][0], parts[-1])\n",
    "\n",
    "    # If the last partition fits into the node, we know we've partitioned successfully\n",
    "    if sum(part_mems[parts.index(models[-1][0]):]) <= node_capacities[-1]:\n",
    "        print(\"Model successfully partitioned\")\n",
    "\n",
    "    partition_per_node = {}\n",
    "    node_tour = btsp_binary_search(communication_graph)\n",
    "    for i in range(len(models)):\n",
    "        partition_per_node[node_tour[i]] = models[i]\n",
    "    return partition_per_node\n",
    "\n",
    "# Homogeneous nodes (in real world, the nodes won't have dramatically different capacities)\n",
    "nodes = [100 * (1024 ** 2)] * num_nodes\n",
    "node_partitions = partition_model(partition_pts, partition_mems, transfer_size_list, nodes, communication_graph)\n",
    "print(node_partitions)"
   ],
   "metadata": {
    "collapsed": false,
    "pycharm": {
     "name": "#%%\n"
    }
   }
  },
  {
   "cell_type": "code",
   "execution_count": null,
   "outputs": [],
   "source": [],
   "metadata": {
    "collapsed": false,
    "pycharm": {
     "name": "#%%\n"
    }
   }
  }
 ],
 "metadata": {
  "interpreter": {
   "hash": "31f2aee4e71d21fbe5cf8b01ff0e069b9275f58929596ceb00d14d90e3e16cd6"
  },
  "kernelspec": {
   "display_name": "Python 3.8.9 64-bit",
   "language": "python",
   "name": "python3"
  },
  "language_info": {
   "codemirror_mode": {
    "name": "ipython",
    "version": 3
   },
   "file_extension": ".py",
   "mimetype": "text/x-python",
   "name": "python",
   "nbconvert_exporter": "python",
   "pygments_lexer": "ipython3",
   "version": "3.8.9"
  },
  "orig_nbformat": 4
 },
 "nbformat": 4,
 "nbformat_minor": 2
}